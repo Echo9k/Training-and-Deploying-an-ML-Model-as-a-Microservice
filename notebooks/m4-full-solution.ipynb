{
 "cells": [
  {
   "cell_type": "markdown",
   "metadata": {},
   "source": [
    "# Part 4: Deploying as a Container Service\n",
    "\n",
    "In the previous milestone we saw the benefits of going serverless versus executing our model locally: it's accessible from everywhere, and people can use it without worrying about dependencies or having the model files locally. However, we also saw some of the drawbacks: there are limitations on the size of your function, there's a max timeout that might be limiting for long-running models, and the first requests after not using it for a while will experience a cold start.\n",
    "\n",
    "Fortunately, there’s another hosting solution: containers. Containers are a similar to virtual machines, but more lightweight: in essence, they give your application an isolated environment to run in, but can share hardware with other isolated containers, which allows them to be easily duplicated and scaled in a manner similar to FaaS, but with fewer restrictions\n",
    "\n",
    "The goal of this milestone is to use containers to run our model, so we can directly compare the experience of both options. The steps are similar to what we did in the last milestone, but adapted to a container workflow."
   ]
  },
  {
   "cell_type": "markdown",
   "metadata": {},
   "source": [
    "## 1. Setting up Docker\n",
    "\n",
    "In this milestone we will use Docker, the most widely-used container technology. "
   ]
  },
  {
   "cell_type": "markdown",
   "metadata": {},
   "source": [
    "### Setting up a simple web server\n",
    "A difference between a Lambda function and a container is that Lambda offers an API to invoke functions out-of-the-box: you can use the `Test` option in the Console, use the `Invoke` operation of its API, or integrate it with other AWS services. With a container, however, you only have a running process: you are the one responsible for setting a way of interacting with that process.\n",
    "\n",
    "In this case, we will set up a web server by using [Flask](https://flask.palletsprojects.com/en/2.0.x/), a web framework for Python\n",
    "\n",
    "To start, we will forget about our model and set up a simple web server that renders plain text. This will let us ensure that we can get Flask up and running. First, create a file called `app.py` and add the following content:"
   ]
  },
  {
   "cell_type": "code",
   "execution_count": null,
   "metadata": {},
   "outputs": [],
   "source": [
    "from flask import Flask\n",
    " \n",
    "app = Flask(__name__)\n",
    " \n",
    " \n",
    "@app.route('/')\n",
    "def hello_world():\n",
    "    return 'Hello world!'\n",
    " \n",
    "if __name__ == '__main__':\n",
    "    # You can try a different port if you are already using 5000\n",
    "    # You can try with 4000, 6000 or 8000 for example\n",
    "    app.run(debug=True, host='0.0.0.0', port=5000)"
   ]
  },
  {
   "cell_type": "markdown",
   "metadata": {},
   "source": [
    "Then, create another one called `requirements.txt` and add this:"
   ]
  },
  {
   "cell_type": "code",
   "execution_count": null,
   "metadata": {},
   "outputs": [],
   "source": [
    "Flask==2.0.2"
   ]
  },
  {
   "cell_type": "markdown",
   "metadata": {},
   "source": [
    "And finally, create another one called `Dockerfile` and add this:"
   ]
  },
  {
   "cell_type": "code",
   "execution_count": null,
   "metadata": {},
   "outputs": [],
   "source": [
    "FROM ubuntu:latest\n",
    "RUN apt-get update -y\n",
    "RUN apt-get install -y python3-pip python3-dev build-essential\n",
    "\n",
    "COPY . /app\n",
    "WORKDIR /app\n",
    "RUN pip3 install -r requirements.txt\n",
    "ENTRYPOINT [\"python3\"]\n",
    "CMD [\"app.py\"]"
   ]
  },
  {
   "attachments": {
    "image.png": {
     "image/png": "[encoded data removed]"
    }
   },
   "cell_type": "markdown",
   "metadata": {},
   "source": [
    "Now, in the same directory where you have all the files, run the following command:\n",
    "\n",
    "```\n",
    "docker build -t m4-example:latest .\n",
    "```\n",
    "\n",
    "The goal of `docker build` is to process the content of your Dockerfile and execute the operations on it. It's kind of like running the installation steps of your own container.\n",
    "\n",
    "Now, we will execute `docker run` to start an instance of the container we just created. If the previous command was equivalent to the installation steps, this is like opening what you just installed\n",
    "\n",
    "```\n",
    "docker run -p 5000:5000 m4-example\n",
    "```\n",
    "\n",
    "Now, if you go to `http://localhost:5000` on any web browser, you should see something like this:\n",
    "\n",
    "![image.png](attachment:image.png)\n",
    "\n",
    "This means that the Docker container is up and running in your machine! Great work!\n",
    "\n",
    "Now, stop the running container. You can either use `Ctrl+C` in your terminal, or `docker stop` and the container name or ID (which you can get with `docker ps`)."
   ]
  },
  {
   "cell_type": "markdown",
   "metadata": {},
   "source": [
    "### Using docker-compose\n",
    "Now we're going to run our container using `docker-compose` instead. \n",
    "\n",
    "`docker-compose` is a tool for defining and running multi-container Docker applications. With it, you use a YAML file to configure your application’s services. Then, with a single command, you create and start all the services from your configuration.\n",
    "\n",
    "While we won't need to run multiple containers in our application, it's a good practice to become familiar with it in case you need it for production projects (for example, you might need to run a database where some data is stored, or a cache to avoid recomputing recent queries).\n",
    "\n",
    "To start, create a new folder called `web` and move there the files we created previously (`app.py`, `requirements.txt` and `Dockerfile`). Now, in the original folder (not `web`) create a file called `docker-compose.yml` with the following content:\n",
    "\n",
    "```yml\n",
    "web:\n",
    "  build: ./web\n",
    "  ports:\n",
    "   # If you didn't use port 5000 in app.py, change it here too\n",
    "   - \"5000:5000\"\n",
    "  volumes:\n",
    "   - .:/code\n",
    "```\n",
    "\n",
    "Now, let's verify the result. Run:\n",
    "\n",
    "```\n",
    "docker-compose up --build\n",
    "```\n",
    "\n",
    "And go to `http://localhost:5000` again. If you see the same text as before, it's a success!"
   ]
  },
  {
   "cell_type": "markdown",
   "metadata": {},
   "source": [
    "## 2. Verifying our model\n",
    "\n",
    "At this point, we are already familiar with Docker and Docker Compose. The next step is to integrate our model with the containers."
   ]
  },
  {
   "cell_type": "markdown",
   "metadata": {},
   "source": [
    "### Preparing our model\n",
    "\n",
    "Like we did in Milestone 3, we need to ensure that we have a version of our model that we can run in the desired environment (in this case, a Docker container). We will need the following changes:\n",
    "\n",
    "**1) Update `requirements.txt`**\n",
    "Modify the `requirements.txt` file to add all the dependencies that your model uses.\n",
    "\n",
    "A simple way to do so can be by adding Flask to a `requirements.txt` from the previous milestone, if you have one\n",
    "\n",
    "\n",
    "**2) Add the file that will use the model**\n",
    "\n",
    "Create a `main.py` file in the `web` folder and fill it with the code that you need to run predictions on the model. You can use the one from the previous milestone and remove the parts related with Lambda. The resulting code should be something similar to this one, but changing the lemmatizer and the `extract_features` to match the ones in your own model."
   ]
  },
  {
   "cell_type": "code",
   "execution_count": null,
   "metadata": {},
   "outputs": [],
   "source": [
    "import json\n",
    "import pickle\n",
    "import re\n",
    "from string import punctuation\n",
    "\n",
    "import nltk\n",
    "from nltk.corpus import stopwords\n",
    "from nltk.stem import WordNetLemmatizer \n",
    "from nltk.tokenize import word_tokenize\n",
    "from nltk.util import everygrams\n",
    "\n",
    "nltk.download(\"punkt\")\n",
    "nltk.download(\"stopwords\")\n",
    "nltk.download('wordnet')\n",
    "\n",
    "model_file = open('sa_classifier.pickle', 'rb')                                                                                                                                                                \n",
    "model = pickle.load(model_file)\n",
    "\n",
    "stopwords_eng = stopwords.words('english')\n",
    "lemmatizer = WordNetLemmatizer()\n",
    "\n",
    "def bag_of_words(words):                                                                                                                                                                                       \n",
    "    bag = {}                                                                                                                                                                                                   \n",
    "    for w in words:                                                                                                                                                                                            \n",
    "        bag[w] = bag.get(w,0)+1                                                                                                                                                                                \n",
    "    return bag\n",
    "\n",
    "def is_useful_word(word):\n",
    "    return (word not in stopwords_eng) and (word not in punctuation)\n",
    "\n",
    "def extract_features(document):\n",
    "    words = word_tokenize(document)\n",
    "    lemmas = [str(lemmatizer.lemmatize(w)) for w in words if is_useful_word(w)]\n",
    "    document = \" \".join(lemmas)\n",
    "    document = document.lower()\n",
    "    document = re.sub(r'[^a-zA-Z0-9\\s]', ' ', document)\n",
    "    words = [w for w in document.split(\" \") if w != \"\" and is_useful_word(w)]\n",
    "    return [str('_'.join(ngram)) for ngram in list(everygrams(words, max_len=3))]\n",
    "\n",
    "def get_sentiment(review):\n",
    "    words = extract_features(review)\n",
    "    words = bag_of_words(words)\n",
    "    return model.classify(words)\n"
   ]
  },
  {
   "cell_type": "markdown",
   "metadata": {},
   "source": [
    "### Serving our predictions on a web server\n",
    "Now that our model is ready, we need to modify our Flask web server to add a new endpoint that we can use to predict sentiment.\n",
    "\n",
    "Let's make the following assumptions about our endpoint:\n",
    "\n",
    "- We will call it `/predict`\n",
    "- We will receive the text in a field called `input`\n",
    "- We will accept requests both using an HTTP GET (with the input specified via query params) or using an HTTP POST (with the input specified via JSON payload).\n",
    "\n",
    "Considering all this, we will create a new endpoint and add it to the `app.py` file\n",
    "\n",
    "The resulting code should look like this:"
   ]
  },
  {
   "cell_type": "code",
   "execution_count": null,
   "metadata": {},
   "outputs": [],
   "source": [
    "from flask import Flask, request\n",
    "# Don't forget to add this import too!\n",
    "from main import get_sentiment\n",
    "\n",
    "app = Flask(__name__)\n",
    "\n",
    "\n",
    "# Note: this route is not required anymore, but you can\n",
    "# keep it as an easy way to test that your container is\n",
    "# up and running correctly\n",
    "@app.route('/')\n",
    "def hello_world():\n",
    "    return 'Hello world!'\n",
    "\n",
    "@app.route('/predict', methods = ['GET', 'POST'])\n",
    "def predict():\n",
    "    if request.method == 'GET':\n",
    "        input = request.args.get('input')\n",
    "    else:\n",
    "        input = request.get_json(force=True)['input']\n",
    "    if not input:\n",
    "        return 'No input value found'\n",
    "    return get_sentiment(input)\n",
    "\n",
    " \n",
    "if __name__ == '__main__':\n",
    "    # You can try a different port if you are already using 5000\n",
    "    # You can try with 4000, 6000 or 8000 for example\n",
    "    app.run(debug=True, host='0.0.0.0', port=5000)\n"
   ]
  },
  {
   "cell_type": "markdown",
   "metadata": {},
   "source": [
    "_(Note: both `app.py` and `main.py` need to be located in the same directory, otherwise you won't be able to access one from the other)_"
   ]
  },
  {
   "attachments": {
    "image.png": {
     "image/png": "[encoded data removed]"
    }
   },
   "cell_type": "markdown",
   "metadata": {},
   "source": [
    "## 3. Running everything\n",
    "All the code and infrastructure is prepared: now it's time to run our container and check if we get what we are expecting:\n",
    "\n",
    "On the folder with your `docker-compose.yml` file, run:\n",
    "\n",
    "```bash\n",
    "docker-compose up --build\n",
    "```\n",
    "\n",
    "If the container starts successfully and you don't get any error message, you should be able to send requests to the endpoint to test your model\n",
    "\n",
    "If you have `curl` on your machine, you can use:\n",
    "\n",
    "```bash\n",
    "curl -d '{\"input\":\"this is wonderful!\"}' -H 'Content-Type: application/json' http://localhost:5000/predict \n",
    "```\n",
    "\n",
    "And the command will output either `pos` or `neg` (the prediction).\n",
    "\n",
    "If you can't use `curl`, you can also directly visit the endpoint URL and specify the input as a query parameter. Go to the following address in your browser:\n",
    "\n",
    "```\n",
    "http://localhost:5000/predict?input=this is wonderful!\n",
    "```\n",
    "\n",
    "And the website will render the result\n",
    "\n",
    "![image.png](attachment:image.png)"
   ]
  }
 ],
 "metadata": {
  "kernelspec": {
   "display_name": "Python 3",
   "language": "python",
   "name": "python3"
  },
  "language_info": {
   "codemirror_mode": {
    "name": "ipython",
    "version": 3
   },
   "file_extension": ".py",
   "mimetype": "text/x-python",
   "name": "python",
   "nbconvert_exporter": "python",
   "pygments_lexer": "ipython3",
   "version": "3.7.3"
  }
 },
 "nbformat": 4,
 "nbformat_minor": 4
}
